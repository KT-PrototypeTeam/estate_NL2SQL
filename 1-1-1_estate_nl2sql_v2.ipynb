{
 "cells": [
  {
   "cell_type": "code",
   "execution_count": 55,
   "metadata": {},
   "outputs": [
    {
     "data": {
      "text/plain": [
       "True"
      ]
     },
     "execution_count": 55,
     "metadata": {},
     "output_type": "execute_result"
    }
   ],
   "source": [
    "# API KEY를 환경변수로 관리하기 위한 설정 파일\n",
    "from dotenv import load_dotenv\n",
    "\n",
    "# API KEY 정보로드\n",
    "load_dotenv()"
   ]
  },
  {
   "cell_type": "code",
   "execution_count": 56,
   "metadata": {},
   "outputs": [],
   "source": [
    "from langchain_openai import ChatOpenAI\n",
    "from langchain.chains import create_sql_query_chain\n",
    "from langchain_community.utilities import SQLDatabase\n",
    "import psycopg2\n",
    "from langchain.prompts import PromptTemplate\n",
    "import os\n",
    "from langchain_core.prompts import load_prompt\n",
    "from langchain_core.output_parsers import StrOutputParser\n",
    "\n",
    "# 환경 변수 가져오기\n",
    "# 데이터베이스 접속 정보 설정\n",
    "username = os.getenv(\"username\")\n",
    "password = os.getenv(\"password\")\n",
    "host = os.getenv(\"host\")\n",
    "port = os.getenv(\"port\")\n",
    "mydatabase = os.getenv(\"mydatabase\")\n",
    "\n",
    "# pg_uri 생성\n",
    "pg_uri = f\"postgresql+psycopg2://{username}:{password}@{host}:{port}/{mydatabase}\"\n",
    "\n",
    "# SQLDatabase 인스턴스 생성\n",
    "db = SQLDatabase.from_uri(pg_uri)"
   ]
  },
  {
   "cell_type": "code",
   "execution_count": 57,
   "metadata": {},
   "outputs": [
    {
     "name": "stdout",
     "output_type": "stream",
     "text": [
      "postgresql\n",
      "['apt_buying_tab', 'apt_renting_tab', 'office_buying_tab', 'office_renting_tab']\n"
     ]
    }
   ],
   "source": [
    "print(db.dialect)\n",
    "# 사용 가능한 테이블 이름들을 출력합니다.\n",
    "print(db.get_usable_table_names())"
   ]
  },
  {
   "cell_type": "markdown",
   "metadata": {},
   "source": [
    "## 1. 테이블 식별"
   ]
  },
  {
   "cell_type": "code",
   "execution_count": 4,
   "metadata": {},
   "outputs": [],
   "source": [
    "# model 은 gpt-3.5-turbo 를 지정\n",
    "llm = ChatOpenAI(model=\"gpt-3.5-turbo\", temperature=0)"
   ]
  },
  {
   "cell_type": "code",
   "execution_count": 110,
   "metadata": {},
   "outputs": [
    {
     "name": "stdout",
     "output_type": "stream",
     "text": [
      "24년 9월 경기도에서 개인이 매매한 아파트, 오피스텔 건수\n"
     ]
    }
   ],
   "source": [
    "question = \"24년 9월 경기도에서 개인이 매매한 아파트, 오피스텔 건수\"\n",
    "print(question)"
   ]
  },
  {
   "cell_type": "code",
   "execution_count": 111,
   "metadata": {},
   "outputs": [
    {
     "data": {
      "text/plain": [
       "PromptTemplate(input_variables=['question'], template='#Question : {question}\\n\\nI\\'m trying to create a #Question in SQL. \\nPlease provide the table name you need in the #Table Info below.\\n\\n#Table Info : \\n\"\"\"\\n1. apt_buying_tab 테이블: 아파트 매매 거래 정보\\n설명: 이 테이블은 아파트 매매 거래에 관한 상세 정보를 저장합니다. 부동산 시장 분석, 가격 추이 파악, 거래 패턴 분석 등에 활용될 수 있는 중요한 데이터입니다.\\n아파트 매매 거래 정보를 담고 있으며, 주택 매매 시장의 동향 파악에 핵심적인 역할을 합니다.\\n주요 필드:\\n시군구: 아파트가 위치한 행정 구역 정보를 담고 있습니다. 예를 들어, 서울특별시 강남구 등으로 지역별 거래 분석에 활용됩니다.\\n단지명: 아파트 단지의 이름으로, 특정 단지의 거래 동향이나 인기 여부를 파악하는 데 사용됩니다.\\n전용면적(㎡): 아파트의 전용 면적을 제곱미터로 표시합니다. 전용 면적에 따른 가격 비교나 시장 분석에 중요합니다.\\n계약년월: 거래 계약이 체결된 년도와 월을 나타냅니다. 시간에 따른 시장 변화나 시즌별 거래량 분석에 활용됩니다.\\n거래금액(만원): 아파트의 실제 거래 금액을 만원 단위로 기록합니다. 가격 추이 분석 및 평가에 사용됩니다.\\n매수자: 아파트를 구매한 사람에 대한 정보입니다. 인구 통계학적 분석이나 구매자 특성 파악에 도움을 줍니다.\\n매도자: 아파트를 판매한 사람에 대한 정보입니다. 매도자 유형 분석이나 거래 패턴 파악에 사용됩니다.\\n건축년도: 아파트가 건축된 연도를 나타냅니다. 건축 연도별 건물의 노후도나 가치 평가에 활용됩니다.\\n거래유형: 거래가 이루어진 방식이나 유형을 나타냅니다. 예를 들어, 중개거래, 직접거래 등이 있으며, 거래 형태별 시장 분석에 도움이 됩니다.\\n\\n2. apt_renting_tab 테이블: 아파트 임대 거래 정보\\n설명: 이 테이블은 아파트 임대(전세 및 월세) 거래 정보를 상세하게 저장합니다. 임대 시장의 동향 파악, 임대료 분석, 임대 형태별 수요 분석 등에 활용됩니다.\\n아파트 임대(전세 및 월세) 거래 정보를 포함하고 있어, 임대 시장 분석에 필수적입니다.\\n주요 필드:\\n시군구: 아파트의 위치한 행정 구역 정보로, 지역별 임대 시장 분석에 사용됩니다.\\n단지명: 아파트 단지의 이름으로, 특정 단지의 임대 수요나 임대료 수준을 파악하는 데 도움이 됩니다.\\n전월세구분: 임대 형태를 구분합니다. \"전세\"는 일시금 보증금을 지불하고 임차하는 형태이고, \"월세\"는 월 단위로 임대료를 지불하는 형태입니다.\\n전용면적(㎡): 아파트의 전용 면적으로, 면적 대비 임대료 분석 등에 활용됩니다.\\n계약년월: 임대 계약이 체결된 년도와 월을 나타내며, 임대 시장의 시간적 변화를 분석하는 데 사용됩니다.\\n보증금(만원): 임대 계약 시 지불하는 보증금 액수로, 만원 단위로 기록됩니다.\\n월세금(만원): 월세 계약의 경우 월 임대료를 만원 단위로 기록합니다.\\n층: 임대하는 아파트의 층수를 나타냅니다. 층수에 따른 임대료 차이나 선호도를 분석하는 데 활용됩니다.\\n건축년도: 아파트의 건축 연도로, 건물의 상태나 노후도 평가에 사용됩니다.\\n계약기간: 임대 계약의 기간을 나타내며, 임대 기간별 수요 분석 등에 도움이 됩니다.\\n주택유형: 임대하는 주택의 유형을 나타냅니다. 예를 들어, 아파트, 빌라, 연립주택 등이 있으며, 주택 유형별 임대 시장 분석에 사용됩니다.\\n\\n3. office_buying_tab 테이블: 오피스텔 매매 거래 정보\\n설명: 이 테이블은 오피스텔 및 상업용 부동산의 매매 거래 정보를 상세히 저장합니다. 상업용 부동산 시장 분석, 투자 가치 평가, 지역별 상업 활동 분석 등에 활용됩니다.\\n오피스텔 및 상업용 부동산의 매매 거래 정보를 관리하며, 상업용 부동산 투자 및 시장 분석에 활용됩니다.\\n주요 필드:\\nColumn1: 각 레코드의 고유 식별자입니다. 데이터베이스에서 기본 키(primary key)로 사용될 수 있습니다.\\nNO: 거래 번호로, 특정 거래를 식별하는 데 사용됩니다.\\n시군구: 부동산이 위치한 지역 정보를 나타냅니다.\\n번지: 상세 주소의 번지 정보를 포함하여 정확한 위치를 파악할 수 있습니다.\\n본번/부번: 주소의 본번과 부번으로, 세부적인 위치 식별에 사용됩니다.\\n단지명: 오피스텔이나 상업용 건물의 이름입니다.\\n전용면적(㎡): 부동산의 전용 면적으로, 면적 대비 가격 분석 등에 활용됩니다.\\n계약년월/계약일: 매매 계약이 체결된 년도, 월, 일자를 나타냅니다.\\n거래금액(만원): 부동산의 거래 금액을 만원 단위로 기록합니다.\\n층: 부동산이 위치한 층수를 나타냅니다.\\n매수/매도: 거래에 참여한 매수자와 매도자의 정보를 포함합니다.\\n건축년도: 건물이 건축된 연도로, 건물의 노후도나 가치 평가에 도움이 됩니다.\\n도로명: 도로명 주소를 나타내며, 위치 파악과 지도 연계 등에 활용됩니다.\\n해제사유발생일: 거래가 해제된 경우 그 사유가 발생한 날짜를 기록합니다.\\n거래유형: 거래의 형태를 나타냅니다. 예를 들어, 중개거래, 경매, 직접거래 등이 있습니다.\\n중개사소재지: 거래를 중개한 부동산 중개사의 위치 정보입니다.\\n\\n4. office_renting_tab 테이블: 오피스텔 임대 거래 정보\\n설명: 이 테이블은 오피스텔 및 상업용 부동산의 임대 거래 정보를 체계적으로 관리합니다. 임대 조건, 시장 임대료 수준, 임차인 및 임대인 정보 등을 분석하는 데 활용됩니다.\\n오피스텔 임대 거래 정보를 담고 있어, 상업용 임대 시장의 동향을 파악하는 데 중요합니다.\\n주요 필드:\\n위치 정보:\\n시군구: 부동산이 위치한 행정 구역 정보입니다.\\n번지: 상세 주소 정보를 포함하여 정확한 위치를 파악할 수 있습니다.\\n도로명: 도로명 주소로, 위치 식별과 네비게이션 등에 활용됩니다.\\n임대 정보:\\n전월세구분: 임대 형태를 구분합니다. \"전세\" 또는 \"월세\"로 나뉩니다.\\n단지명: 오피스텔 또는 상업용 건물의 이름입니다.\\n계약기간: 임대 계약의 기간으로, 임대 기간별 시장 분석에 도움이 됩니다.\\n계약구분: 계약의 종류를 나타내며, 신규 계약 또는 갱신 계약 등을 구분할 수 있습니다.\\n면적 및 가격:\\n전용면적(㎡): 임대하는 공간의 전용 면적입니다.\\n보증금(만원): 임대 계약 시 지불하는 보증금 액수입니다.\\n월세금(만원): 월 임대료를 만원 단위로 기록합니다.\\n계약 정보:\\n계약년월: 임대 계약이 체결된 년도와 월입니다.\\n계약일: 계약이 체결된 일자를 나타냅니다.\\n갱신요구권 사용: 임차인이 계약 갱신 요구권을 사용했는지를 표시합니다.\\n건물 정보:\\n층: 임대하는 공간이 위치한 층수입니다.\\n건축년도: 건물이 건축된 연도를 나타냅니다.\\n\"\"\"\\n\\n# 주의사항 :  여러 테이블일 수 있습니다.\\n\\n각 테이블은 거래 유형(매매 또는 임대)과 부동산 유형(아파트 또는 오피스텔)에 따라 구분되어 있으며, 필드는 해당 거래의 핵심 정보를 상세히 기록하도록 구성되어 있습니다. 이를 통해 부동산 시장의 다양한 측면을 종합적으로 분석하고 이해할 수 있습니다.\\n꼭 필요한 테이블만 선택할 것.\\n#Table names :\\n')"
      ]
     },
     "execution_count": 111,
     "metadata": {},
     "output_type": "execute_result"
    }
   ],
   "source": [
    "# Load the prompt template\n",
    "prompt_template = PromptTemplate.from_template(load_prompt(\"prompts/selectTable.yaml\").template)\n",
    "prompt_template"
   ]
  },
  {
   "cell_type": "code",
   "execution_count": 81,
   "metadata": {},
   "outputs": [
    {
     "name": "stdout",
     "output_type": "stream",
     "text": [
      "1. apt_buying_tab\n",
      "2. office_buying_tab\n"
     ]
    }
   ],
   "source": [
    "output_parser = StrOutputParser()\n",
    "\n",
    "chain = prompt_template | llm | output_parser\n",
    "answer = chain.invoke({\"question\" : question})\n",
    "\n",
    "print(answer)"
   ]
  },
  {
   "cell_type": "code",
   "execution_count": 86,
   "metadata": {},
   "outputs": [
    {
     "data": {
      "text/plain": [
       "'1. apt_buying_tab\\n2. office_buying_tab'"
      ]
     },
     "execution_count": 86,
     "metadata": {},
     "output_type": "execute_result"
    }
   ],
   "source": [
    "answer"
   ]
  },
  {
   "cell_type": "markdown",
   "metadata": {},
   "source": [
    "## 우선, 모델은 GPT-3.5로 고정. 다만, 충분히 바뀔 여지는 있다."
   ]
  },
  {
   "cell_type": "code",
   "execution_count": 58,
   "metadata": {},
   "outputs": [],
   "source": [
    "# model 은 gpt-3.5-turbo 를 지정\n",
    "#llm = ChatOpenAI(model=\"gpt-4o\", temperature=0)\n",
    "# model 은 gpt-3.5-turbo 를 지정\n",
    "llm = ChatOpenAI(model=\"gpt-3.5-turbo\", temperature=0)\n",
    "\n",
    "# LLM 과 DB 를 매개변수로 입력하여 chain 을 생성합니다.\n",
    "chain = create_sql_query_chain(llm, db)"
   ]
  },
  {
   "cell_type": "code",
   "execution_count": 59,
   "metadata": {},
   "outputs": [
    {
     "name": "stdout",
     "output_type": "stream",
     "text": [
      "'SELECT COUNT(*) \\nFROM apt_buying_tab \\nWHERE \"계약년월\" = 202409 AND \"시군구\" LIKE \\'경기도%\\' AND \"매수자\" = \\'개인\\'\\n\\nUNION\\n\\nSELECT COUNT(*) \\nFROM office_buying_tab \\nWHERE \"계약년월\" = 202409 AND \"시군구\" LIKE \\'경기도%\\' AND \"매수\" = \\'개인\\'\\nLIMIT 5;'\n"
     ]
    }
   ],
   "source": [
    "# chain 을 실행하고 결과를 출력합니다.\n",
    "generated_sql_query = chain.invoke({\"question\": \" 24년 9월 경기도에서 개인이 매매한 아파트, 오피스텔 건수\"})\n",
    "\n",
    "# 생성된 쿼리를 출력합니다.\n",
    "print(generated_sql_query.__repr__())"
   ]
  },
  {
   "cell_type": "code",
   "execution_count": 8,
   "metadata": {},
   "outputs": [
    {
     "data": {
      "text/plain": [
       "str"
      ]
     },
     "execution_count": 8,
     "metadata": {},
     "output_type": "execute_result"
    }
   ],
   "source": [
    "type(generated_sql_query)"
   ]
  },
  {
   "cell_type": "code",
   "execution_count": 9,
   "metadata": {},
   "outputs": [
    {
     "data": {
      "text/plain": [
       "RunnableAssign(mapper={\n",
       "  input: RunnableLambda(...),\n",
       "  table_info: RunnableLambda(...)\n",
       "})\n",
       "| RunnableLambda(lambda x: {k: v for k, v in x.items() if k not in ('question', 'table_names_to_use')})\n",
       "| PromptTemplate(input_variables=['input', 'table_info'], partial_variables={'top_k': '5'}, template='You are a PostgreSQL expert. Given an input question, first create a syntactically correct PostgreSQL query to run, then look at the results of the query and return the answer to the input question.\\nUnless the user specifies in the question a specific number of examples to obtain, query for at most {top_k} results using the LIMIT clause as per PostgreSQL. You can order the results to return the most informative data in the database.\\nNever query for all columns from a table. You must query only the columns that are needed to answer the question. Wrap each column name in double quotes (\") to denote them as delimited identifiers.\\nPay attention to use only the column names you can see in the tables below. Be careful to not query for columns that do not exist. Also, pay attention to which column is in which table.\\nPay attention to use CURRENT_DATE function to get the current date, if the question involves \"today\".\\n\\nUse the following format:\\n\\nQuestion: Question here\\nSQLQuery: SQL Query to run\\nSQLResult: Result of the SQLQuery\\nAnswer: Final answer here\\n\\nOnly use the following tables:\\n{table_info}\\n\\nQuestion: {input}')\n",
       "| RunnableBinding(bound=ChatOpenAI(client=<openai.resources.chat.completions.Completions object at 0x10aa737d0>, async_client=<openai.resources.chat.completions.AsyncCompletions object at 0x10aa8ea50>, root_client=<openai.OpenAI object at 0x10aa73190>, root_async_client=<openai.AsyncOpenAI object at 0x10aa7ed10>, temperature=0.0, openai_api_key=SecretStr('**********'), openai_proxy=''), kwargs={'stop': ['\\nSQLResult:']})\n",
       "| StrOutputParser()\n",
       "| RunnableLambda(_strip)"
      ]
     },
     "execution_count": 9,
     "metadata": {},
     "output_type": "execute_result"
    }
   ],
   "source": [
    "chain"
   ]
  },
  {
   "cell_type": "markdown",
   "metadata": {},
   "source": [
    "- chain 을 실행하면 DB 기반으로 쿼리를 생성합니다."
   ]
  },
  {
   "cell_type": "markdown",
   "metadata": {},
   "source": [
    "# AS-IS"
   ]
  },
  {
   "cell_type": "code",
   "execution_count": 11,
   "metadata": {},
   "outputs": [
    {
     "name": "stdout",
     "output_type": "stream",
     "text": [
      "'SELECT COUNT(*) \\nFROM apt_buying_tab \\nWHERE \"계약년월\" = 202409 AND \"시군구\" LIKE \\'경기도%\\' AND \"매수자\" = \\'개인\\'\\n\\nUNION ALL\\n\\nSELECT COUNT(*) \\nFROM office_buying_tab \\nWHERE \"계약년월\" = 202409 AND \"시군구\" LIKE \\'경기도%\\' AND \"매수\" = \\'개인\\'\\nLIMIT 5;\\n```'\n"
     ]
    }
   ],
   "source": [
    "# chain 을 실행하고 결과를 출력합니다.\n",
    "generated_sql_query = chain.invoke({\"question\": \"24년 9월 경기도에서 개인이 매매한 아파트, 오피스텔 건수\"})\n",
    "\n",
    "# 생성된 쿼리를 출력합니다.\n",
    "print(generated_sql_query.__repr__())\n",
    "query = generated_sql_query.__repr__()"
   ]
  },
  {
   "cell_type": "code",
   "execution_count": 12,
   "metadata": {},
   "outputs": [
    {
     "data": {
      "text/plain": [
       "'Error: (psycopg2.errors.SyntaxError) syntax error at or near \"```\"\\nLINE 11: ```\\n         ^\\n\\n[SQL: SELECT COUNT(*) \\nFROM apt_buying_tab \\nWHERE \"계약년월\" = 202409 AND \"시군구\" LIKE \\'경기도%%\\' AND \"매수자\" = \\'개인\\'\\n\\nUNION ALL\\n\\nSELECT COUNT(*) \\nFROM office_buying_tab \\nWHERE \"계약년월\" = 202409 AND \"시군구\" LIKE \\'경기도%%\\' AND \"매수\" = \\'개인\\'\\nLIMIT 5;\\n```]\\n(Background on this error at: https://sqlalche.me/e/20/f405)'"
      ]
     },
     "execution_count": 12,
     "metadata": {},
     "output_type": "execute_result"
    }
   ],
   "source": [
    "from langchain_community.tools.sql_database.tool import QuerySQLDataBaseTool\n",
    "\n",
    "# 생성한 쿼리를 실행하기 위한 도구를 생성합니다.\n",
    "execute_query = QuerySQLDataBaseTool(db=db)\n",
    "\n",
    "execute_query.invoke({\"query\": generated_sql_query})"
   ]
  },
  {
   "cell_type": "markdown",
   "metadata": {},
   "source": [
    "### Error 원인\n",
    "\n",
    "에러 메시지에 따르면 SQL 문에서 \"```\" 근처에서 구문 오류(syntax error)가 발생했습니다. 이는 SQL 문에 삼중 백틱(```)이 포함되어 있어서 생긴 문제입니다. 삼중 백틱은 마크다운에서 코드 블록을 표시하기 위한 기호로, SQL 문법에서는 사용되지 않습니다."
   ]
  },
  {
   "cell_type": "markdown",
   "metadata": {},
   "source": [
    "### TO-BE"
   ]
  },
  {
   "cell_type": "markdown",
   "metadata": {},
   "source": [
    "### 1. 우선 쿼리 생성"
   ]
  },
  {
   "cell_type": "code",
   "execution_count": 13,
   "metadata": {},
   "outputs": [
    {
     "name": "stdout",
     "output_type": "stream",
     "text": [
      "'SELECT COUNT(*) \\nFROM apt_buying_tab \\nWHERE \"계약년월\" = 202409 AND \"시군구\" LIKE \\'경기도%\\' AND \"매수자\" = \\'개인\\'\\n\\nUNION ALL\\n\\nSELECT COUNT(*) \\nFROM office_buying_tab \\nWHERE \"계약년월\" = 202409 AND \"시군구\" LIKE \\'경기도%\\' AND \"매수\" = \\'개인\\'\\nLIMIT 5;\\n```'\n"
     ]
    }
   ],
   "source": [
    "# chain 을 실행하고 결과를 출력합니다.\n",
    "generated_sql_query = chain.invoke({\"question\": \"24년 9월 경기도에서 개인이 매매한 아파트, 오피스텔 건수\"})\n",
    "\n",
    "# 생성된 쿼리를 출력합니다.\n",
    "print(generated_sql_query.__repr__())\n",
    "query = generated_sql_query.__repr__()"
   ]
  },
  {
   "cell_type": "code",
   "execution_count": 16,
   "metadata": {},
   "outputs": [
    {
     "name": "stdout",
     "output_type": "stream",
     "text": [
      "<class 'str'>\n",
      "--------------------------------------------------\n",
      "'SELECT COUNT(*) \\nFROM apt_buying_tab \\nWHERE \"계약년월\" = 202409 AND \"시군구\" LIKE \\'경기도%\\' AND \"매수자\" = \\'개인\\'\\n\\nUNION ALL\\n\\nSELECT COUNT(*) \\nFROM office_buying_tab \\nWHERE \"계약년월\" = 202409 AND \"시군구\" LIKE \\'경기도%\\' AND \"매수\" = \\'개인\\'\\nLIMIT 5;\\n```'\n"
     ]
    }
   ],
   "source": [
    "print(type(query))\n",
    "print(\"-\"*50)\n",
    "print(query)"
   ]
  },
  {
   "cell_type": "markdown",
   "metadata": {},
   "source": [
    "### 2. 쿼리 검증 로직 별도로 추가."
   ]
  },
  {
   "cell_type": "code",
   "execution_count": 33,
   "metadata": {},
   "outputs": [
    {
     "name": "stdout",
     "output_type": "stream",
     "text": [
      "client=<openai.resources.chat.completions.Completions object at 0x10a9a73d0> async_client=<openai.resources.chat.completions.AsyncCompletions object at 0x10ac2dd10> root_client=<openai.OpenAI object at 0x10ac0e2d0> root_async_client=<openai.AsyncOpenAI object at 0x10ac1f590> model_name='gpt-4o' temperature=0.0 openai_api_key=SecretStr('**********') openai_proxy=''\n"
     ]
    }
   ],
   "source": [
    "llm_4 = ChatOpenAI(model=\"gpt-4o\", temperature=0)\n",
    "output_parser = StrOutputParser()\n",
    "\n",
    "print(llm_4)"
   ]
  },
  {
   "cell_type": "code",
   "execution_count": 44,
   "metadata": {},
   "outputs": [],
   "source": [
    "# Load the prompt template\n",
    "prompt_template = PromptTemplate.from_template(load_prompt(\"prompts/edit_prompt.yaml\").template)\n"
   ]
  },
  {
   "cell_type": "code",
   "execution_count": 45,
   "metadata": {},
   "outputs": [
    {
     "data": {
      "text/plain": [
       "PromptTemplate(input_variables=['query'], template='You are a PostgreSQL expert.\\nTake a look at the query below and make sure it is a viable query. If there are errors such as syntax errors, please correct them and provide a valid query.\\n\\n{query}\\n\\n# REQUEST : \\n# 1. Only provide SQL executable queries out of the box.\\n# 2. 벡틱이나 이런 문자 없이 수정된 SQL만 출력할 것.\\n# 3. \"```\" 같은 문자들은 쿼리 수행시킬 때 에러 발생할 수 있기 때문에 제외할 것.\\n# 4. 생성된 sql를 통해서 바로 수행해야하기 때문에 sql만 출력할 것.\\n\\n# Answer Query : \\n')\n",
       "| ChatOpenAI(client=<openai.resources.chat.completions.Completions object at 0x10a9a73d0>, async_client=<openai.resources.chat.completions.AsyncCompletions object at 0x10ac2dd10>, root_client=<openai.OpenAI object at 0x10ac0e2d0>, root_async_client=<openai.AsyncOpenAI object at 0x10ac1f590>, model_name='gpt-4o', temperature=0.0, openai_api_key=SecretStr('**********'), openai_proxy='')\n",
       "| StrOutputParser()"
      ]
     },
     "execution_count": 45,
     "metadata": {},
     "output_type": "execute_result"
    }
   ],
   "source": [
    "chain = prompt_template | llm_4 | output_parser\n",
    "chain"
   ]
  },
  {
   "cell_type": "code",
   "execution_count": 46,
   "metadata": {},
   "outputs": [],
   "source": [
    "input = {\"query\": query}\n",
    "answer = chain.invoke(input)"
   ]
  },
  {
   "cell_type": "code",
   "execution_count": 47,
   "metadata": {},
   "outputs": [
    {
     "data": {
      "text/plain": [
       "'SELECT COUNT(*)\\nFROM apt_buying_tab\\nWHERE \"계약년월\" = 202409 AND \"시군구\" LIKE \\'경기도%\\' AND \"매수자\" = \\'개인\\'\\n\\nUNION ALL\\n\\nSELECT COUNT(*)\\nFROM office_buying_tab\\nWHERE \"계약년월\" = 202409 AND \"시군구\" LIKE \\'경기도%\\' AND \"매수\" = \\'개인\\'\\nLIMIT 5;'"
      ]
     },
     "execution_count": 47,
     "metadata": {},
     "output_type": "execute_result"
    }
   ],
   "source": [
    "answer"
   ]
  },
  {
   "cell_type": "code",
   "execution_count": 48,
   "metadata": {},
   "outputs": [],
   "source": [
    "execute_query = QuerySQLDataBaseTool(db=db)"
   ]
  },
  {
   "cell_type": "code",
   "execution_count": 51,
   "metadata": {},
   "outputs": [],
   "source": [
    "answer_data = execute_query(answer)"
   ]
  },
  {
   "cell_type": "code",
   "execution_count": 52,
   "metadata": {},
   "outputs": [
    {
     "data": {
      "text/plain": [
       "'[(1687,), (130,)]'"
      ]
     },
     "execution_count": 52,
     "metadata": {},
     "output_type": "execute_result"
    }
   ],
   "source": [
    "answer_data"
   ]
  },
  {
   "cell_type": "markdown",
   "metadata": {},
   "source": [
    "## 답변을 LLM 으로 증강-생성\n",
    "이전 단계에서 생성한 chain 을 사용하면 답변이 단답형 형식으로 출력됩니다. 이를 LCEL 문법의 체인으로 좀 더 자연스러운 답변을 받을 수 있도록 조정할 수 있습니다."
   ]
  },
  {
   "cell_type": "code",
   "execution_count": 50,
   "metadata": {},
   "outputs": [],
   "source": [
    "answer_prompt = PromptTemplate.from_template(\n",
    "    \"\"\"Given the following user question, corresponding SQL query, and SQL result, answer the user question.\n",
    "\n",
    "Question: {question}\n",
    "SQL Query: {query}\n",
    "SQL Result: {result}\n",
    "Answer: \"\"\"\n",
    ")"
   ]
  },
  {
   "cell_type": "code",
   "execution_count": 53,
   "metadata": {},
   "outputs": [],
   "source": [
    "chain = answer_prompt | llm_4 | output_parser\n",
    "\n",
    "input = {\"question\" : \"24년 9월 경기도에서 개인이 매매한 아파트, 오피스텔 건수\", \"query\": query, \"result\" : answer_data}\n",
    "chat_answer = chain.invoke(input)"
   ]
  },
  {
   "cell_type": "code",
   "execution_count": 54,
   "metadata": {},
   "outputs": [
    {
     "data": {
      "text/plain": [
       "'24년 9월 경기도에서 개인이 매매한 아파트 건수는 1687건, 오피스텔 건수는 130건입니다.'"
      ]
     },
     "execution_count": 54,
     "metadata": {},
     "output_type": "execute_result"
    }
   ],
   "source": [
    "chat_answer"
   ]
  },
  {
   "cell_type": "code",
   "execution_count": null,
   "metadata": {},
   "outputs": [],
   "source": []
  }
 ],
 "metadata": {
  "kernelspec": {
   "display_name": "langchain-kr-ltzu9F9K-py3.11",
   "language": "python",
   "name": "python3"
  },
  "language_info": {
   "codemirror_mode": {
    "name": "ipython",
    "version": 3
   },
   "file_extension": ".py",
   "mimetype": "text/x-python",
   "name": "python",
   "nbconvert_exporter": "python",
   "pygments_lexer": "ipython3",
   "version": "3.11.10"
  }
 },
 "nbformat": 4,
 "nbformat_minor": 2
}
